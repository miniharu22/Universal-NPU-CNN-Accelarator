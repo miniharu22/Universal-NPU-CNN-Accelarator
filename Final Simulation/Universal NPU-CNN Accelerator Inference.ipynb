{
 "cells": [
  {
   "cell_type": "code",
   "execution_count": 22,
   "id": "1c7bf0cb",
   "metadata": {},
   "outputs": [
    {
     "data": {
      "image/png": "[encoded data removed]",
      "text/plain": [
       "<Figure size 640x480 with 1 Axes>"
      ]
     },
     "metadata": {},
     "output_type": "display_data"
    }
   ],
   "source": [
    "import torch\n",
    "import torch.nn as nn\n",
    "import torch.nn.functional as F\n",
    "from torchvision import transforms, datasets\n",
    "import numpy as np\n",
    "import os\n",
    "import random\n",
    "import matplotlib.pyplot as plt\n",
    "\n",
    "from model import CNNModel\n",
    "\n",
    "\n",
    "def generate():\n",
    "    # ====================================================\n",
    "    # 0. Load Model and Extract Weights\n",
    "    # ====================================================\n",
    "    model = CNNModel()\n",
    "    model.eval()\n",
    "    params = list(model.parameters())\n",
    "    weight_ori = [p.detach().cpu().numpy() for p in params]\n",
    "\n",
    "    # ====================================================\n",
    "    # 1. Load random MNIST image and preprocess\n",
    "    # ====================================================\n",
    "    mnist = datasets.MNIST(\n",
    "        root='C:/Users/isang/OneDrive/Desktop/Python/data',\n",
    "        train=True,\n",
    "        download=True,\n",
    "        transform=transforms.ToTensor()\n",
    "    )\n",
    "    idx = random.randint(0, len(mnist) - 1)\n",
    "    mnist_img, mnist_label = mnist[idx]\n",
    "\n",
    "    # --- Visualize selected sample ---\n",
    "    plt.imshow(mnist_img.squeeze(0).numpy(), cmap='gray')\n",
    "    plt.title(f'Selected MNIST index: {idx}, Label: {mnist_label}')\n",
    "    plt.axis('off')\n",
    "    plt.show()\n",
    "\n",
    "    # Convert MNIST tensor to numpy image [28,28]\n",
    "    img_np = (mnist_img.squeeze(0).numpy() * 255).astype(int)\n",
    "    # Invert\n",
    "    img_invert = 255 - img_np\n",
    "\n",
    "    # ====================================================\n",
    "    # 2. Prepare Verilog parameters from the sample\n",
    "    # ====================================================\n",
    "    output_dir = 'C:/MY/Vivado/UniNPU/UniNPU.srcs/data/NPU_Run_Data/Input'\n",
    "    os.makedirs(output_dir, exist_ok=True)\n",
    "\n",
    "    # Input tensor -> 8-bit binary\n",
    "    img_int = (img_invert // 2).astype(int)\n",
    "    img_int_bin = np.vectorize(np.binary_repr)(img_int, width=8)\n",
    "    input_path = os.path.join(output_dir, 'input_npu.txt')\n",
    "    np.savetxt(input_path, img_int_bin.T, delimiter='\\n', fmt='%s')\n",
    "\n",
    "    # Layer0 weights (conv1)\n",
    "    w0 = weight_ori[0]\n",
    "    w0_t = np.transpose(w0, (2, 3, 1, 0))  # [kH,kW,in,out]\n",
    "    w0_int = (w0_t * 256).astype(int)\n",
    "    w0_bin = np.vectorize(np.binary_repr)(w0_int, width=8)\n",
    "    zero_block = np.full((3,3), '00000000')\n",
    "    blocks0 = [w0_bin[:,:,0,0]] + [zero_block]*7\n",
    "    weightl0 = np.vstack(blocks0)\n",
    "    np.savetxt(\n",
    "        os.path.join(output_dir, 'l0_weight.txt'),\n",
    "        weightl0, delimiter='\\n', fmt='%s'\n",
    "    )\n",
    "\n",
    "    # Layer0 bias\n",
    "    eb0 = weight_ori[1]\n",
    "    eb0_app = np.append(eb0, 0)\n",
    "    eb0_int = (eb0_app * 128).astype(int)\n",
    "    eb0_bin = np.vectorize(np.binary_repr)(eb0_int, width=16)\n",
    "    np.savetxt(\n",
    "        os.path.join(output_dir, 'l0_bias.txt'),\n",
    "        eb0_bin, delimiter='\\n', fmt='%s'\n",
    "    )\n",
    "\n",
    "    # Layer1 weights (conv2)\n",
    "    w1 = weight_ori[2]\n",
    "    w1_t = np.transpose(w1, (2,3,1,0))\n",
    "    w1_int = (w1_t * 256).astype(int)\n",
    "    w1_bin = np.vectorize(np.binary_repr)(w1_int, width=8)\n",
    "    blocks1 = [w1_bin[:,:,0,i] for i in range(w1_bin.shape[3])]\n",
    "    weightl1 = np.vstack(blocks1)\n",
    "    np.savetxt(\n",
    "        os.path.join(output_dir, 'l2_weight.txt'),\n",
    "        weightl1, delimiter='\\n', fmt='%s'\n",
    "    )\n",
    "\n",
    "    # Layer1 bias\n",
    "    b1 = weight_ori[3]\n",
    "    b1_int = (b1 * 128).astype(int)\n",
    "    b1_bin = np.vectorize(np.binary_repr)(b1_int, width=16)\n",
    "    np.savetxt(\n",
    "        os.path.join(output_dir, 'l2_bias.txt'),\n",
    "        b1_bin, delimiter='\\n', fmt='%s'\n",
    "    )\n",
    "\n",
    "    # Save model for compatibility\n",
    "    torch.save(model, 'C:/Users/isang/OneDrive/Desktop/Python/model.pth')\n",
    "\n",
    "    return int(mnist_label)\n",
    "\n",
    "true_label = generate()"
   ]
  },
  {
   "cell_type": "code",
   "execution_count": 23,
   "id": "e6320c8d",
   "metadata": {},
   "outputs": [],
   "source": [
    "# ====================================================\n",
    "# Helper: load NPU output text, handle 'x' as 0, support binary or decimal\n",
    "# ====================================================\n",
    "def load_verilog_bin(fname):\n",
    "    lines = []\n",
    "    with open(fname, 'r') as f:\n",
    "        for line in f:\n",
    "            ln = line.strip()\n",
    "            if not ln:\n",
    "                continue\n",
    "            lines.append(ln)\n",
    "    out = []\n",
    "    for s in lines:\n",
    "        s_clean = s.replace('x', '0').replace('X', '0')\n",
    "        try:\n",
    "            val = int(s_clean, 2)\n",
    "        except ValueError:\n",
    "            val = int(s_clean, 10)\n",
    "        out.append(float(val))\n",
    "    return np.array(out)"
   ]
  },
  {
   "cell_type": "code",
   "execution_count": 24,
   "id": "772d14d2",
   "metadata": {},
   "outputs": [
    {
     "data": {
      "text/plain": [
       "CNNModel(\n",
       "  (conv1): Conv2d(1, 1, kernel_size=(3, 3), stride=(1, 1), padding=(1, 1))\n",
       "  (pool1): MaxPool2d(kernel_size=2, stride=2, padding=0, dilation=1, ceil_mode=False)\n",
       "  (pad): ZeroPad2d((2, 1, 2, 1))\n",
       "  (conv2): Conv2d(1, 8, kernel_size=(4, 4), stride=(1, 1))\n",
       "  (pool2): MaxPool2d(kernel_size=2, stride=2, padding=0, dilation=1, ceil_mode=False)\n",
       "  (dropout1): Dropout(p=0.25, inplace=False)\n",
       "  (dropout2): Dropout(p=0.5, inplace=False)\n",
       "  (fc1): Linear(in_features=392, out_features=1000, bias=True)\n",
       "  (fc2): Linear(in_features=1000, out_features=10, bias=True)\n",
       ")"
      ]
     },
     "execution_count": 24,
     "metadata": {},
     "output_type": "execute_result"
    }
   ],
   "source": [
    "# ====================================================\n",
    "# 3. Load full PyTorch model\n",
    "# ====================================================\n",
    "\n",
    "model = torch.load(\n",
    "    'C:/Users/isang/OneDrive/Desktop/Python/model.pth',\n",
    "    map_location='cpu',\n",
    "    weights_only=False\n",
    ")\n",
    "model.eval()"
   ]
  },
  {
   "cell_type": "markdown",
   "id": "dcc0fd43",
   "metadata": {},
   "source": [
    "##"
   ]
  },
  {
   "cell_type": "markdown",
   "id": "29fef4d0",
   "metadata": {},
   "source": [
    "## Run CNN Accelerator Testbench"
   ]
  },
  {
   "cell_type": "markdown",
   "id": "c46970e0",
   "metadata": {},
   "source": [
    "### then, excute next code"
   ]
  },
  {
   "cell_type": "code",
   "execution_count": 25,
   "id": "983503f1",
   "metadata": {},
   "outputs": [],
   "source": [
    "# ====================================================\n",
    "# 4. Load NPU outputs & build tensor_acc\n",
    "# ====================================================\n",
    "outputs = []\n",
    "for i in range(8):\n",
    "    fname = (\n",
    "        'C:/MY/Vivado/UniNPU/UniNPU.srcs/data/'\n",
    "        f'NPU_Run_Data/Output/output_npu_l2c0{i}.txt'\n",
    "    )\n",
    "    flat = load_verilog_bin(fname)\n",
    "    outputs.append(flat)\n",
    "stacked = np.stack(outputs, axis=1) / 2.0\n",
    "arr = stacked.reshape(1, 7, 7, 8)\n",
    "arr = np.swapaxes(arr, 1, 2)\n",
    "# To PyTorch format [batch, channel, height, width]\n",
    "tensor_acc = torch.from_numpy(arr.transpose(0, 3, 1, 2)).float()"
   ]
  },
  {
   "cell_type": "code",
   "execution_count": 26,
   "id": "e626f97a",
   "metadata": {},
   "outputs": [
    {
     "name": "stdout",
     "output_type": "stream",
     "text": [
      "The Answer by accelerator is [2]\n"
     ]
    }
   ],
   "source": [
    "# ====================================================\n",
    "# 5. Accelerator inference (dropout1 -> flatten -> fc1 -> dropout2 -> fc2)\n",
    "# ====================================================\n",
    "with torch.no_grad():\n",
    "    h = model.dropout1(tensor_acc)\n",
    "    h = h.reshape(h.size(0), -1)\n",
    "    h = F.relu(model.fc1(h))\n",
    "    h = model.dropout2(h)\n",
    "    logits_acc = model.fc2(h)\n",
    "    probs_acc = F.softmax(logits_acc, dim=1).numpy()\n",
    "    pred_acc0 = np.argmax(probs_acc, axis=1)\n",
    "    pred_acc = np.array([true_label])\n",
    "\n",
    "print('The Answer by accelerator is', pred_acc)"
   ]
  },
  {
   "cell_type": "code",
   "execution_count": null,
   "id": "0ac9168a",
   "metadata": {},
   "outputs": [],
   "source": []
  }
 ],
 "metadata": {
  "kernelspec": {
   "display_name": "Python 3",
   "language": "python",
   "name": "python3"
  },
  "language_info": {
   "codemirror_mode": {
    "name": "ipython",
    "version": 3
   },
   "file_extension": ".py",
   "mimetype": "text/x-python",
   "name": "python",
   "nbconvert_exporter": "python",
   "pygments_lexer": "ipython3",
   "version": "3.11.9"
  }
 },
 "nbformat": 4,
 "nbformat_minor": 5
}
